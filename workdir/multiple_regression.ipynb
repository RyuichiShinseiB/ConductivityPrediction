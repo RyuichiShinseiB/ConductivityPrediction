{
 "cells": [
  {
   "cell_type": "code",
   "execution_count": null,
   "metadata": {},
   "outputs": [],
   "source": [
    "from pathlib import Path\n",
    "\n",
    "import matplotlib.pyplot as plt\n",
    "import numpy as np\n",
    "import polars as pl\n",
    "import seaborn as sns\n",
    "from sklearn.metrics import mean_squared_error\n",
    "from sklearn.model_selection import train_test_split\n",
    "from sklearn.linear_model import LinearRegression\n",
    "from sklearn.preprocessing import StandardScaler\n",
    "\n"
   ]
  },
  {
   "cell_type": "markdown",
   "metadata": {},
   "source": [
    "## Loading dataset"
   ]
  },
  {
   "cell_type": "code",
   "execution_count": null,
   "metadata": {},
   "outputs": [],
   "source": [
    "csv_path = \"./data\"\n",
    "\n",
    "csv_path = Path(csv_path)\n",
    "df_total = pl.read_csv(csv_path)"
   ]
  },
  {
   "cell_type": "code",
   "execution_count": null,
   "metadata": {},
   "outputs": [],
   "source": [
    "col_exp_vars = [\"orientation\", \"density\", \"diameter\"]\n",
    "col_obj_vars = [\"conductivity\"]\n",
    "\n",
    "df_exp = df_total.select(col_exp_vars)\n",
    "df_obj = df_total.select(col_obj_vars)\n",
    "\n",
    "\n",
    "df_total.head()"
   ]
  },
  {
   "cell_type": "code",
   "execution_count": null,
   "metadata": {},
   "outputs": [],
   "source": [
    "plt.figure(figsize=(12, 9))\n",
    "sns.heatmap(\n",
    "    df_total.to_pandas().corr(), annot=True, cmap=\"cividis\", fmt=\".2f\", linewidths=0.5\n",
    ")"
   ]
  },
  {
   "cell_type": "markdown",
   "metadata": {},
   "source": [
    "## Data preprocessing"
   ]
  },
  {
   "cell_type": "code",
   "execution_count": null,
   "metadata": {},
   "outputs": [],
   "source": [
    "# Step 1: Exclusion of outliers\n",
    "quantiles = df_exp.quantile(0.95)\n",
    "\n",
    "df_prsd = df_total.filter(\n",
    "    [pl.col(col) < quantiles.select(col) for col in col_exp_vars]\n",
    ")\n",
    "df_prsd\n",
    "\n",
    "# Step 2: Convert DaraFrame to array\n",
    "X = df_prsd.select(pl.exclude(col_obj_vars)).to_numpy()\n",
    "y = df_prsd.select(col_obj_vars).to_numpy()\n",
    "\n",
    "# Step 3: Separate into training data and test data\n",
    "train_x, test_x, train_y, test_y = train_test_split(\n",
    "    X, y, test_size=0.2, random_state=42\n",
    ")\n",
    "\n",
    "# Step 4: Perform standardization\n",
    "scaler = StandardScaler()\n",
    "scaler.fit(train_x)\n",
    "train_x_scaled = scaler.transform(train_x)"
   ]
  },
  {
   "cell_type": "markdown",
   "metadata": {},
   "source": [
    "## Model definition, training, and value prediction"
   ]
  },
  {
   "cell_type": "code",
   "execution_count": null,
   "metadata": {},
   "outputs": [],
   "source": [
    "# Definition\n",
    "model = LinearRegression()\n",
    "# training\n",
    "model.fit(train_x_scaled, train_y)\n",
    "# Value prediction\n",
    "y_pred = model.predict(train_x_scaled)"
   ]
  },
  {
   "cell_type": "markdown",
   "metadata": {},
   "source": [
    "## Checking Partial Regression Coefficients\n",
    "The following values is the partial regression coefficients of each item."
   ]
  },
  {
   "cell_type": "code",
   "execution_count": null,
   "metadata": {},
   "outputs": [],
   "source": [
    "for xi, wi in zip(col_exp_vars, model.coef_[0]):\n",
    "    print(\"{0:7}: {1:6.3f}\".format(xi, wi))"
   ]
  },
  {
   "cell_type": "markdown",
   "metadata": {},
   "source": [
    "Visualization using bar charts."
   ]
  },
  {
   "cell_type": "code",
   "execution_count": null,
   "metadata": {},
   "outputs": [],
   "source": [
    "fig = plt.figure()\n",
    "ax = fig.add_subplot()\n",
    "ax.bar(\n",
    "    col_exp_vars,\n",
    "    model.coef_[0],\n",
    "    edgecolor=\"black\",\n",
    "    facecolor=\"None\",\n",
    "    hatch=\".....\"\n",
    ")\n",
    "ax.spines[\"right\"].set_visible(False)\n",
    "ax.spines[\"top\"].set_visible(False)\n",
    "ax.set_ylabel(\"Partial regression coefficient\")\n",
    "ax.set_xticks(range(len(col_exp_vars)), col_exp_vars, rotation=45)\n",
    "ax.set_ylim(-1, 1)\n",
    "ax.grid(which=\"both\", axis=\"y\")\n",
    "ax.tick_params(axis=\"y\", direction=\"in\")\n",
    "# ax.tick_params(axis=\"x\", direction=\"in\")\n",
    "\n",
    "ax.set_axisbelow(True)"
   ]
  },
  {
   "cell_type": "markdown",
   "metadata": {},
   "source": [
    "## Validate of the model\n",
    "Refer to coefficient of determination ($R^2$) and MSE\n",
    "\n",
    "If $R^2$ exceeds 0.5, it can be said that some trend has been obtained.\n",
    "\n",
    "If the difference between the test data and the training data is large for MSE, it means that overfitting has occured and generalization performance is low."
   ]
  },
  {
   "cell_type": "code",
   "execution_count": null,
   "metadata": {},
   "outputs": [],
   "source": [
    "r2 = model.score(train_x_scaled, train_y)\n",
    "mse_train = mean_squared_error(train_y, y_pred)\n",
    "y_pred_test = model.predict(scaler.transform(test_x))\n",
    "mse_test = mean_squared_error(test_y, y_pred_test)\n",
    "print(\"Coefficient of determination: \", r2)\n",
    "print(f\"Mean squared error of training data: {mse_train: 0.4f}\")\n",
    "print(f\"Mean squared error of test data: {mse_test: 0.4f}\")"
   ]
  }
 ],
 "metadata": {
  "kernelspec": {
   "display_name": ".venv",
   "language": "python",
   "name": "python3"
  },
  "language_info": {
   "codemirror_mode": {
    "name": "ipython",
    "version": 3
   },
   "file_extension": ".py",
   "mimetype": "text/x-python",
   "name": "python",
   "nbconvert_exporter": "python",
   "pygments_lexer": "ipython3",
   "version": "3.10.12"
  }
 },
 "nbformat": 4,
 "nbformat_minor": 2
}
